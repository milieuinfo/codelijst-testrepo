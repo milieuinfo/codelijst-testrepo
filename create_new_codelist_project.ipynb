{
 "cells": [
  {
   "cell_type": "code",
   "execution_count": 5,
   "metadata": {},
   "outputs": [],
   "source": [
    "import os"
   ]
  },
  {
   "cell_type": "code",
   "execution_count": 6,
   "metadata": {},
   "outputs": [
    {
     "name": "stdout",
     "output_type": "stream",
     "text": [
      "/home/gehau/git/codelijst-testrepo\n"
     ]
    }
   ],
   "source": [
    "plchldr = \"testrepo\"\n",
    "project = \"whatever\"\n",
    "\n",
    "template = os.path.normpath(\"/home/gehau/git/codelijst-testrepo\")\n",
    "#template = os.getcwd()\n",
    "print(template)"
   ]
  },
  {
   "cell_type": "code",
   "execution_count": 7,
   "metadata": {},
   "outputs": [],
   "source": [
    "def replace_string(str):\n",
    "    return(str.replace(plchldr, project))"
   ]
  },
  {
   "cell_type": "code",
   "execution_count": 13,
   "metadata": {},
   "outputs": [],
   "source": [
    "def process_file(path):\n",
    "    with open(path, 'r') as file:\n",
    "        filedata = file.read()\n",
    "\n",
    "    filedata = replace_string(filedata)\n",
    "\n",
    "    with open(replace_string(path), 'w') as file:\n",
    "        file.write(filedata)"
   ]
  },
  {
   "cell_type": "code",
   "execution_count": 14,
   "metadata": {},
   "outputs": [],
   "source": [
    "def process_dir(path):\n",
    "    os.mkdir(replace_string(path))\n",
    "    for object in os.listdir(path):\n",
    "        process_item(os.path.join(path, object))"
   ]
  },
  {
   "cell_type": "code",
   "execution_count": 17,
   "metadata": {},
   "outputs": [],
   "source": [
    "def process_item(path):\n",
    "    if os.path.basename(path) != \".git\":\n",
    "        if os.path.isfile(path):\n",
    "            process_file(path)\n",
    "        elif os.path.isdir(path):\n",
    "            process_dir(path)\n",
    "        else:\n",
    "            raise NotImplementedError(\"Object is neither a file nor a directory\")"
   ]
  },
  {
   "cell_type": "code",
   "execution_count": null,
   "metadata": {},
   "outputs": [],
   "source": [
    "process_item(template)"
   ]
  },
  {
   "cell_type": "code",
   "execution_count": null,
   "metadata": {},
   "outputs": [],
   "source": []
  }
 ],
 "metadata": {
  "kernelspec": {
   "display_name": "Python 3",
   "language": "python",
   "name": "python3"
  },
  "language_info": {
   "codemirror_mode": {
    "name": "ipython",
    "version": 3
   },
   "file_extension": ".py",
   "mimetype": "text/x-python",
   "name": "python",
   "nbconvert_exporter": "python",
   "pygments_lexer": "ipython3",
   "version": "3.8.5"
  }
 },
 "nbformat": 4,
 "nbformat_minor": 5
}
